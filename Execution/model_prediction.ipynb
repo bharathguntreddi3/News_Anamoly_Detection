{
 "cells": [
  {
   "cell_type": "code",
   "execution_count": 5,
   "id": "e5727c26-10cb-46a4-9ebd-a2e8b1728f24",
   "metadata": {},
   "outputs": [
    {
     "name": "stdout",
     "output_type": "stream",
     "text": [
      "Please enter the news text you want to verify:  A flight from Atlanta to Houston was canceled due to a terrorist dry run.\n"
     ]
    },
    {
     "name": "stdout",
     "output_type": "stream",
     "text": [
      "You entered: A flight from Atlanta to Houston was canceled due to a terrorist dry run.\n",
      "The given statement is  False\n",
      "The truth probability score is  0.48467292604274476\n"
     ]
    }
   ],
   "source": [
    "\n",
    "\n",
    "import pickle\n",
    "\n",
    "\n",
    "var = input(\"Please enter the news text that you want to verify: \")\n",
    "print(\"You entered: \" + str(var))\n",
    "\n",
    "\n",
    "#function to run for prediction\n",
    "def detecting_fake_news(var):    \n",
    "#retrieving the best model for prediction call\n",
    "    load_model = pickle.load(open('final_model.sav', 'rb'))\n",
    "    prediction = load_model.predict([var])\n",
    "    prob = load_model.predict_proba([var])\n",
    "\n",
    "    return (print(\"The given statement is \",prediction[0]),\n",
    "        print(\"The truth probability score is \",prob[0][1]))\n",
    "\n",
    "\n",
    "if __name__ == '__main__':\n",
    "    detecting_fake_news(var)"
   ]
  }
 ],
 "metadata": {
  "kernelspec": {
   "display_name": "Python 3 (ipykernel)",
   "language": "python",
   "name": "python3"
  },
  "language_info": {
   "codemirror_mode": {
    "name": "ipython",
    "version": 3
   },
   "file_extension": ".py",
   "mimetype": "text/x-python",
   "name": "python",
   "nbconvert_exporter": "python",
   "pygments_lexer": "ipython3",
   "version": "3.12.1"
  }
 },
 "nbformat": 4,
 "nbformat_minor": 5
}
